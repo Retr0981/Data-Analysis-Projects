{
 "cells": [
  {
   "cell_type": "code",
   "execution_count": 27,
   "id": "87221827-727f-4fc9-bce9-1cba9b72d5c1",
   "metadata": {},
   "outputs": [],
   "source": [
    "# Import Libraries\n",
    "from bs4 import BeautifulSoup\n",
    "import requests\n",
    "import time \n",
    "import datetime\n",
    "import re\n",
    "import smtplib\n"
   ]
  },
  {
   "cell_type": "code",
   "execution_count": 33,
   "id": "7206ef3b-3fb8-4923-9588-926103da015a",
   "metadata": {},
   "outputs": [
    {
     "name": "stdout",
     "output_type": "stream",
     "text": [
      "Product Title:\n",
      "Funny Got Data MIS Data Systems Business Analyst T-Shirt\n",
      "\n",
      "Ratings:\n",
      "4.3\n",
      "4.3 out of 5 stars\n",
      "19 ratings\n",
      "\n",
      "Facts:\n",
      "Product details\n",
      "Fabric type\n",
      "Solid colors: 100% Cotton; Heather Grey: 90% Cotton, 10% Polyester; Dark Heather and Heather Blue: 50% Cotton, 50% Polyester; OR Dark Heather, Heather Blue and All Other Heathers: 65% Polyester, 35% Cotton; Girls' Heathers: 60% Cotton, 40% Polyester\n",
      "Care instructions\n",
      "Machine Wash\n",
      "Origin\n",
      "Imported\n",
      "Closure type\n",
      "Pull On\n",
      "About this item\n",
      "'Funny Got Data MIS Data Systems Business Analyst' is a funny pickup perfect for people interested in MIS and data systems who works in IT or data consulting! Any business analyst or consultant that works with big data will love it!\n",
      "Lightweight, Classic fit, Double-needle sleeve and bottom hem\n",
      "See more\n",
      "About this item\n"
     ]
    }
   ],
   "source": [
    "# Function to clean up spaces and keep lines neat\n",
    "def clean_and_neat(text):\n",
    "    lines = text.strip().split('\\n')\n",
    "    cleaned_lines = [re.sub(r'\\s+', ' ', line.strip()) for line in lines if line.strip()]\n",
    "    return '\\n'.join(cleaned_lines)\n",
    "\n",
    "# Clean up the data\n",
    "title = clean_and_neat(title)\n",
    "ratings = clean_and_neat(ratings)\n",
    "facts = clean_and_neat(facts)\n",
    "\n",
    "# Print the cleaned-up data\n",
    "print(\"Product Title:\")\n",
    "print(title)\n",
    "print(\"\\nRatings:\")\n",
    "print(ratings)\n",
    "print(\"\\nFacts:\")\n",
    "print(facts)"
   ]
  },
  {
   "cell_type": "code",
   "execution_count": 31,
   "id": "4da3eab0-c1fc-4a89-a98f-d1ff6485e30c",
   "metadata": {},
   "outputs": [],
   "source": [
    "# Connect to the Website and pull in data\n",
    "\n",
    "URL = 'https://www.amazon.com/Funny-Data-Systems-Business-Analyst/dp/B07FNW9FGJ/ref=sr_1_3?dchild=1&keywords=data%2Banalyst%2Btshirt&qid=1626655184&sr=8-3&customId=B0752XJYNL&th=1'\n",
    "\n",
    "headers = {\"User-Agent\": \"Mozilla/5.0 (Windows NT 10.0; Win64; x64) AppleWebKit/537.36 (KHTML, like Gecko) Chrome/78.0.3904.108 Safari/537.36\", \"Accept-Encoding\":\"gzip, deflate\", \"Accept\":\"text/html,application/xhtml+xml,application/xml;q=0.9,*/*;q=0.8\", \"DNT\":\"1\",\"Connection\":\"close\", \"Upgrade-Insecure-Requests\":\"1\"}\n",
    "\n",
    "page = requests.get(URL, headers=headers)\n",
    "\n",
    "soup1 = BeautifulSoup(page.content, \"html.parser\")\n",
    "\n",
    "soup2 = BeautifulSoup(soup1.prettify(), \"html.parser\")\n",
    "\n",
    "title = soup2.find(id=\"productTitle\").get_text()\n",
    "ratings = soup2.find(id=\"averageCustomerReviews\").get_text()\n",
    "facts  =  soup2.find(id=\"productFactsDesktop_feature_div\").get_text() \n",
    "\n",
    "\n",
    "\n",
    "\n",
    "\n"
   ]
  },
  {
   "cell_type": "code",
   "execution_count": 40,
   "id": "a0947e00-a369-42ed-b55a-1c1aa7189f29",
   "metadata": {},
   "outputs": [
    {
     "name": "stdout",
     "output_type": "stream",
     "text": [
      "2024-07-24\n"
     ]
    }
   ],
   "source": [
    "import datetime \n",
    "\n",
    "today = datetime.date.today()\n",
    "\n",
    "print(today)"
   ]
  },
  {
   "cell_type": "code",
   "execution_count": 51,
   "id": "0b74eb83-c31e-445f-b07c-062c6d462828",
   "metadata": {},
   "outputs": [],
   "source": [
    "# Create CSV and write headers and data into the file\n",
    "\n",
    "import csv \n",
    "\n",
    "header = ['Title', 'Ratings', 'Facts', 'Date']\n",
    "data = [title, ratings, facts,  today]\n",
    "\n",
    "\n",
    "with open('AmazonWebScraperDataset.csv', 'w', newline='', encoding='UTF8') as f:\n",
    "    writer = csv.writer(f)\n",
    "    writer.writerow(header)\n",
    "    writer.writerow(data)\n",
    "    "
   ]
  },
  {
   "cell_type": "code",
   "execution_count": 54,
   "id": "9e58982a-ddad-4ab8-824b-d537ce34ffd6",
   "metadata": {},
   "outputs": [
    {
     "name": "stdout",
     "output_type": "stream",
     "text": [
      "                                               Title  \\\n",
      "0  Funny Got Data MIS Data Systems Business Analy...   \n",
      "1  Funny Got Data MIS Data Systems Business Analy...   \n",
      "\n",
      "                               Ratings  \\\n",
      "0  4.3\\n4.3 out of 5 stars\\n19 ratings   \n",
      "1  4.3\\n4.3 out of 5 stars\\n19 ratings   \n",
      "\n",
      "                                               Facts        Date  \n",
      "0  Product details\\nFabric type\\nSolid colors: 10...  2024-07-24  \n",
      "1  Product details\\nFabric type\\nSolid colors: 10...  2024-07-24  \n"
     ]
    }
   ],
   "source": [
    "import pandas as pd\n",
    "df = pd.read_csv(r'C:\\Users\\david\\AmazonWebScraperDataset.csv')\n",
    "print(df)\n"
   ]
  },
  {
   "cell_type": "code",
   "execution_count": null,
   "id": "b904e9df-8cf4-4796-98d4-3ce34fb0bbcf",
   "metadata": {},
   "outputs": [],
   "source": [
    "#Combine all of the above code into one function\n",
    "import  datetime\n",
    "import csv \n",
    "\n",
    "\n",
    "def check_detail():\n",
    "    URL = 'https://www.amazon.com/Funny-Data-Systems-Business-Analyst/dp/B07FNW9FGJ/ref=sr_1_3?dchild=1&keywords=data%2Banalyst%2Btshirt&qid=1626655184&sr=8-3&customId=B0752XJYNL&th=1'\n",
    "\n",
    "    headers = {\"User-Agent\": \"Mozilla/5.0 (Windows NT 10.0; Win64; x64) AppleWebKit/537.36 (KHTML, like Gecko) Chrome/78.0.3904.108 Safari/537.36\", \"Accept-Encoding\":\"gzip, deflate\", \"Accept\":\"text/html,application/xhtml+xml,application/xml;q=0.9,*/*;q=0.8\", \"DNT\":\"1\",\"Connection\":\"close\", \"Upgrade-Insecure-Requests\":\"1\"}\n",
    "\n",
    "    page = requests.get(URL, headers=headers)\n",
    "\n",
    "    soup1 = BeautifulSoup(page.content, \"html.parser\")\n",
    "\n",
    "    soup2 = BeautifulSoup(soup1.prettify(), \"html.parser\")\n",
    "\n",
    "    title = soup2.find(id=\"productTitle\").get_text()\n",
    "    ratings = soup2.find(id=\"averageCustomerReviews\").get_text()\n",
    "    facts  =  soup2.find(id=\"productFactsDesktop_feature_div\").get_text() \n",
    "\n",
    "     \n",
    "\n",
    "    today = datetime.date.today()\n",
    "    \n",
    "\n",
    "    header = ['Title', 'Ratings', 'Facts', 'Date']\n",
    "    data = [title, ratings, facts,  today]\n",
    "\n",
    "\n",
    "    with open('AmazonWebScraperDataset.csv', 'a+', newline='', encoding='UTF8') as f:\n",
    "        writer = csv.writer(f)\n",
    "        writer.writerow(data)"
   ]
  },
  {
   "cell_type": "code",
   "execution_count": null,
   "id": "f69f5728-5540-4755-9fdc-91d605ca51f5",
   "metadata": {},
   "outputs": [],
   "source": [
    "# Runs check_price after a set time and inputs data into your CSV\n",
    "\n",
    "while(True):\n",
    "    check_detail()\n",
    "    time.sleep(5)"
   ]
  },
  {
   "cell_type": "code",
   "execution_count": null,
   "id": "7cdd48e5-6400-4b19-8858-21defb6a0fb9",
   "metadata": {},
   "outputs": [],
   "source": [
    "# If you want to try sending yourself an email (just for fun) when a price hits below a certain level you can try it\n",
    "# out with this script\n",
    "\n",
    "def send_mail():\n",
    "    server = smtplib.SMTP_SSL('smtp.gmail.com',465)\n",
    "    server.ehlo()\n",
    "    #server.starttls()\n",
    "    server.ehlo()\n",
    "    server.login('davidarmah991@gmail.com','xxxxxxxxxxxxxx')\n",
    "    \n",
    "    subject = \"The Shirt you want is below $15! Now is your chance to buy!\"\n",
    "    body = \"David, This is the moment we have been waiting for. Now is your chance to pick up the shirt of your dreams. Don't mess it up! Link here: https://www.amazon.com/Funny-Data-Systems-Business-Analyst/dp/B07FNW9FGJ/ref=sr_1_3?dchild=1&keywords=data+analyst+tshirt&qid=1626655184&sr=8-3\"\n",
    "   \n",
    "    msg = f\"Subject: {subject}\\n\\n{body}\"\n",
    "    \n",
    "    server.sendmail(\n",
    "        'davidarmah991@gmail.com',\n",
    "        msg\n",
    "     \n",
    "    )"
   ]
  }
 ],
 "metadata": {
  "kernelspec": {
   "display_name": "Python 3 (ipykernel)",
   "language": "python",
   "name": "python3"
  },
  "language_info": {
   "codemirror_mode": {
    "name": "ipython",
    "version": 3
   },
   "file_extension": ".py",
   "mimetype": "text/x-python",
   "name": "python",
   "nbconvert_exporter": "python",
   "pygments_lexer": "ipython3",
   "version": "3.11.7"
  }
 },
 "nbformat": 4,
 "nbformat_minor": 5
}
